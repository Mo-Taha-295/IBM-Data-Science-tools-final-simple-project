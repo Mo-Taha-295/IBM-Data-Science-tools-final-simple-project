{
 "cells": [
  {
   "cell_type": "markdown",
   "id": "ed5b658d-9749-4d2a-9927-62c5bce46c49",
   "metadata": {},
   "source": [
    "# Data Science Tools and Ecosystem"
   ]
  },
  {
   "cell_type": "markdown",
   "id": "30b2ffd9-441d-42b5-8432-76356aca5660",
   "metadata": {},
   "source": [
    "## In this notebook, Data Science Tools and Ecosystem are summarized.\r\n"
   ]
  },
  {
   "cell_type": "markdown",
   "id": "364ee1b9-a2cd-4478-8bdb-4aeb7a497778",
   "metadata": {},
   "source": [
    " **Objectives**:\n",
    " - List popular languages for Data Science\n",
    " - List of popular used libraries in Data Science\n",
    " - some arthimatics codes in python "
   ]
  },
  {
   "cell_type": "markdown",
   "id": "1380129c-e3b0-4ce2-afbe-0ae41ec4ec78",
   "metadata": {},
   "source": [
    "## Some of the popular languages that Data Scientists use are:\n",
    "1. python\n",
    "2. R Language\n",
    "3. scala\n"
   ]
  },
  {
   "cell_type": "markdown",
   "id": "cf461bff-c9bf-4125-a38f-634d2ed17b2d",
   "metadata": {},
   "source": [
    "## Some of the commonly used libraries used by Data Scientists include:\n",
    "1. Matplotlib\n",
    "2. NumPy\n",
    "3. TensorFlow"
   ]
  },
  {
   "cell_type": "markdown",
   "id": "ce66e097-c15a-4013-943c-37f5f4cc6825",
   "metadata": {},
   "source": [
    "|Data Science Tools|\n",
    "|--------------|\n",
    "|Google Colab|\n",
    "|Jupyter Lab|\n",
    "|R studio|\n"
   ]
  },
  {
   "cell_type": "markdown",
   "id": "8349ef12-e4f5-47a7-abde-3ba703b8d468",
   "metadata": {},
   "source": [
    "## Below are a few examples of evaluating arithmetic expressions in Python.\n"
   ]
  },
  {
   "cell_type": "code",
   "execution_count": 3,
   "id": "79098fd0-e333-4125-bdfe-e59215bf03bc",
   "metadata": {},
   "outputs": [
    {
     "data": {
      "text/plain": [
       "17"
      ]
     },
     "execution_count": 3,
     "metadata": {},
     "output_type": "execute_result"
    }
   ],
   "source": [
    "# Below are a few examples of evaluating arithmetic expressions in Python.\n",
    "(4*3)+5"
   ]
  },
  {
   "cell_type": "code",
   "execution_count": 4,
   "id": "fec498fe-7521-487a-848e-5dd4f3f642bb",
   "metadata": {},
   "outputs": [
    {
     "name": "stdout",
     "output_type": "stream",
     "text": [
      "3.3333333333333335\n"
     ]
    }
   ],
   "source": [
    "# This will convert 200 minutes to hours by diving by 60.\n",
    "min = 200 \n",
    "hour= 200/ 60\n",
    "print(hour)"
   ]
  },
  {
   "cell_type": "markdown",
   "id": "e0559775-cd4a-458f-8633-688e5e5b605c",
   "metadata": {},
   "source": [
    "## Author \n",
    "Mohamed Taha Elsayed "
   ]
  }
 ],
 "metadata": {
  "kernelspec": {
   "display_name": "Python 3 (ipykernel)",
   "language": "python",
   "name": "python3"
  },
  "language_info": {
   "codemirror_mode": {
    "name": "ipython",
    "version": 3
   },
   "file_extension": ".py",
   "mimetype": "text/x-python",
   "name": "python",
   "nbconvert_exporter": "python",
   "pygments_lexer": "ipython3",
   "version": "3.11.3"
  }
 },
 "nbformat": 4,
 "nbformat_minor": 5
}
